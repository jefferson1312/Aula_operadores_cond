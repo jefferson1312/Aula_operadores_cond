{
  "nbformat": 4,
  "nbformat_minor": 0,
  "metadata": {
    "colab": {
      "provenance": [],
      "authorship_tag": "ABX9TyNS/tMHCo8JvK9w2UJJDZMZ",
      "include_colab_link": true
    },
    "kernelspec": {
      "name": "python3",
      "display_name": "Python 3"
    },
    "language_info": {
      "name": "python"
    }
  },
  "cells": [
    {
      "cell_type": "markdown",
      "metadata": {
        "id": "view-in-github",
        "colab_type": "text"
      },
      "source": [
        "<a href=\"https://colab.research.google.com/github/jefferson1312/Aula_operadores_cond/blob/main/Operadores_Relacionais.ipynb\" target=\"_parent\"><img src=\"https://colab.research.google.com/assets/colab-badge.svg\" alt=\"Open In Colab\"/></a>"
      ]
    },
    {
      "cell_type": "markdown",
      "source": [
        "Ex) Faça um programa que faça a seguinte sequencia de atividade:\n",
        "\n",
        "    . Receba um valor do usuario e armazenna na variavel num;\n",
        "    . Receba outro valor do usario e armazena na variavel comparacao\n",
        "    . Converte ambos valores recebido em int;\n",
        "    . Realizar a operaçao resultado = 2 x num + 3\n",
        "    . Ultize os operadores logicos para comparar se resultados é igual ou maior\n",
        "    \n",
        "\n",
        "\n"
      ],
      "metadata": {
        "id": "otC8oh_2_wi3"
      }
    },
    {
      "cell_type": "code",
      "source": [
        "# Entrada de dados:\n",
        "num = int(input(\"Digite um numero qualquer: \"))\n",
        "comparacao = int(input(\"Digite outro número para realiazar a comparacao: \"))\n",
        "\n",
        "#processamento dos dados:\n",
        "resultado = 2*num+3\n",
        "print(f\"o resultado da comparaçao é: {resultado >=comparacao} \")"
      ],
      "metadata": {
        "colab": {
          "base_uri": "https://localhost:8080/"
        },
        "id": "AuHLNlXlB2Eg",
        "outputId": "21d10042-9413-4d36-c882-02ee05b679e3"
      },
      "execution_count": 3,
      "outputs": [
        {
          "output_type": "stream",
          "name": "stdout",
          "text": [
            "Digite um numero qualquer: 8\n",
            "Digite outro número para realiazar a comparacao: 6\n",
            "o resultado da comparaçao é: True \n"
          ]
        }
      ]
    }
  ]
}