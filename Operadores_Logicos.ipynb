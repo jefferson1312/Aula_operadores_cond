{
  "nbformat": 4,
  "nbformat_minor": 0,
  "metadata": {
    "colab": {
      "provenance": [],
      "authorship_tag": "ABX9TyMl9mm+3aC31j3kF3b9Ltfv",
      "include_colab_link": true
    },
    "kernelspec": {
      "name": "python3",
      "display_name": "Python 3"
    },
    "language_info": {
      "name": "python"
    }
  },
  "cells": [
    {
      "cell_type": "markdown",
      "metadata": {
        "id": "view-in-github",
        "colab_type": "text"
      },
      "source": [
        "<a href=\"https://colab.research.google.com/github/jefferson1312/Aula_operadores_cond/blob/main/Operadores_Logicos.ipynb\" target=\"_parent\"><img src=\"https://colab.research.google.com/assets/colab-badge.svg\" alt=\"Open In Colab\"/></a>"
      ]
    },
    {
      "cell_type": "markdown",
      "source": [
        "# Opreador and"
      ],
      "metadata": {
        "id": "xNnQnQH8Hbd7"
      }
    },
    {
      "cell_type": "code",
      "execution_count": null,
      "metadata": {
        "id": "u5Vex5Av9sdI"
      },
      "outputs": [],
      "source": [
        "entrada_1 = True\n",
        "entrada_2 = False\n",
        "print(entrada_1 and entrada_2)"
      ]
    },
    {
      "cell_type": "code",
      "source": [
        "entrada_1 = True\n",
        "entrada_2 = True\n",
        "print(f\"{entrada_1} and {entrada_2} ={entrada_1 and entrada_2} \")"
      ],
      "metadata": {
        "colab": {
          "base_uri": "https://localhost:8080/"
        },
        "id": "R-WXmgRyB6lf",
        "outputId": "6c2be3e0-79ae-4b66-b346-f39f97a5bdf8"
      },
      "execution_count": null,
      "outputs": [
        {
          "output_type": "stream",
          "name": "stdout",
          "text": [
            "True and True =True \n"
          ]
        }
      ]
    },
    {
      "cell_type": "code",
      "source": [
        "(2*2+3) == 7 and ((2+2) != 3) and (5*2 == 10))"
      ],
      "metadata": {
        "id": "DQAl3fS1Cznu"
      },
      "execution_count": null,
      "outputs": []
    },
    {
      "cell_type": "markdown",
      "source": [
        "# Operador or"
      ],
      "metadata": {
        "id": "Ifp3YvlhHNSk"
      }
    },
    {
      "cell_type": "code",
      "source": [],
      "metadata": {
        "id": "Uzs_dJsRHLpB"
      },
      "execution_count": null,
      "outputs": []
    },
    {
      "cell_type": "code",
      "source": [
        "entrada_1 = False\n",
        "entrada_2 = False\n",
        "\n",
        "resultado = entrada_1 or entrada_2\n",
        "print(resultado)"
      ],
      "metadata": {
        "colab": {
          "base_uri": "https://localhost:8080/"
        },
        "id": "pq8C9P8pD5xr",
        "outputId": "cd3691f3-4b50-455e-b0cb-7dd7b971f142"
      },
      "execution_count": null,
      "outputs": [
        {
          "output_type": "stream",
          "name": "stdout",
          "text": [
            "False\n"
          ]
        }
      ]
    },
    {
      "cell_type": "code",
      "source": [
        "entrada_1 = True\n",
        "entrada_2 = False\n",
        "\n",
        "resultado = entrada_1 or entrada_2\n",
        "print(resultado)"
      ],
      "metadata": {
        "colab": {
          "base_uri": "https://localhost:8080/"
        },
        "id": "pnx-vMBHEzwb",
        "outputId": "04a5de44-d993-43e8-ce21-9adad5d2d5e3"
      },
      "execution_count": null,
      "outputs": [
        {
          "output_type": "stream",
          "name": "stdout",
          "text": [
            "True\n"
          ]
        }
      ]
    },
    {
      "cell_type": "markdown",
      "source": [],
      "metadata": {
        "id": "D42vfxPCFgNk"
      }
    },
    {
      "cell_type": "code",
      "source": [
        "((2*2+3)==6) or ((2+2)!=4) or  ((1+9)!=10)"
      ],
      "metadata": {
        "colab": {
          "base_uri": "https://localhost:8080/"
        },
        "id": "eAFZWqPoFF0j",
        "outputId": "9537848c-7a5f-4b55-e4e8-c91c65980280"
      },
      "execution_count": null,
      "outputs": [
        {
          "output_type": "execute_result",
          "data": {
            "text/plain": [
              "False"
            ]
          },
          "metadata": {},
          "execution_count": 12
        }
      ]
    },
    {
      "cell_type": "code",
      "source": [
        "entrada_1 = True\n",
        "entrada_2 = False\n",
        "entrada_3 = True\n",
        "\n",
        "(entrada_1 and entrada_2) or entrada_3\n"
      ],
      "metadata": {
        "colab": {
          "base_uri": "https://localhost:8080/"
        },
        "id": "_yPieSycGPjK",
        "outputId": "a39f1ec1-0447-4338-df36-5961947fb354"
      },
      "execution_count": null,
      "outputs": [
        {
          "output_type": "execute_result",
          "data": {
            "text/plain": [
              "True"
            ]
          },
          "metadata": {},
          "execution_count": 14
        }
      ]
    },
    {
      "cell_type": "markdown",
      "source": [
        "# Operador  not"
      ],
      "metadata": {
        "id": "eJFh2l-pICyq"
      }
    },
    {
      "cell_type": "code",
      "source": [
        "entrada = True\n",
        "\n",
        "resultado = not entrada\n",
        "\n",
        "print(resultado)\n"
      ],
      "metadata": {
        "colab": {
          "base_uri": "https://localhost:8080/"
        },
        "id": "R7VPIx9Dhmjk",
        "outputId": "0a9bf64f-a71f-4021-88d3-f3cf634d2948"
      },
      "execution_count": 2,
      "outputs": [
        {
          "output_type": "stream",
          "name": "stdout",
          "text": [
            "False\n"
          ]
        }
      ]
    },
    {
      "cell_type": "code",
      "source": [
        "entrada = False\n",
        "\n",
        "resultado = not entrada\n",
        "\n",
        "print(resultado)"
      ],
      "metadata": {
        "colab": {
          "base_uri": "https://localhost:8080/"
        },
        "id": "_E3exx4xh93q",
        "outputId": "b8134bed-c331-4111-de86-2073e9a83e8f"
      },
      "execution_count": 4,
      "outputs": [
        {
          "output_type": "stream",
          "name": "stdout",
          "text": [
            "True\n"
          ]
        }
      ]
    },
    {
      "cell_type": "code",
      "source": [
        "entrada_1 = (2*5)>3\n",
        "entrada_2 = 13<12\n",
        "entrada_3 = False\n",
        "\n",
        "print(not((entrada_1 and entrada_2) or (entrada_1 and entrada_3 )))"
      ],
      "metadata": {
        "colab": {
          "base_uri": "https://localhost:8080/"
        },
        "id": "n33marhhiXxU",
        "outputId": "994f7b05-45b7-44c7-bcb6-e0eed1c1cde9"
      },
      "execution_count": 7,
      "outputs": [
        {
          "output_type": "stream",
          "name": "stdout",
          "text": [
            "True\n"
          ]
        }
      ]
    }
  ]
}