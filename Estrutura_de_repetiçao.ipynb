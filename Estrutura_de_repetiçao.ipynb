{
  "nbformat": 4,
  "nbformat_minor": 0,
  "metadata": {
    "colab": {
      "provenance": [],
      "authorship_tag": "ABX9TyP/vYfagTYBnfTPKxFdmMF6",
      "include_colab_link": true
    },
    "kernelspec": {
      "name": "python3",
      "display_name": "Python 3"
    },
    "language_info": {
      "name": "python"
    }
  },
  "cells": [
    {
      "cell_type": "markdown",
      "metadata": {
        "id": "view-in-github",
        "colab_type": "text"
      },
      "source": [
        "<a href=\"https://colab.research.google.com/github/jefferson1312/Aula_operadores_cond/blob/main/Estrutura_de_repeti%C3%A7ao.ipynb\" target=\"_parent\"><img src=\"https://colab.research.google.com/assets/colab-badge.svg\" alt=\"Open In Colab\"/></a>"
      ]
    },
    {
      "cell_type": "markdown",
      "source": [
        "### Comando while"
      ],
      "metadata": {
        "id": "QB0ZSAe-PBa8"
      }
    },
    {
      "cell_type": "markdown",
      "source": [
        "exemplo 1"
      ],
      "metadata": {
        "id": "KhYaWoCyPKcx"
      }
    },
    {
      "cell_type": "code",
      "source": [
        "# Recebedo o numero do usuário:\n",
        "numero = input('Digite um número para o cálculo de sua tabuada:\\n')\n",
        "# Convertendo o numero para inteiro:\n",
        "numero = int(numero)\n",
        "#Criando a Variavel de controle do  laço de repetiçao\n",
        "contador = 1\n",
        "while contador <= 10:\n",
        "    #Exibir o valor da tabuada:\n",
        "    print(f'{numero} x {contador} = {numero * contador}')\n",
        "    contador = contador + 1\n",
        "print(\"Fim de programa!\")"
      ],
      "metadata": {
        "id": "MV7NGmwxPHtt",
        "colab": {
          "base_uri": "https://localhost:8080/"
        },
        "outputId": "3c8262cf-c21b-4c75-828b-281ea8c74387"
      },
      "execution_count": null,
      "outputs": [
        {
          "output_type": "stream",
          "name": "stdout",
          "text": [
            "Digite um número para o cálculo de sua tabuada:\n",
            "15\n",
            "15 x 1 = 15\n",
            "15 x 2 = 30\n",
            "15 x 3 = 45\n",
            "15 x 4 = 60\n",
            "15 x 5 = 75\n",
            "15 x 6 = 90\n",
            "15 x 7 = 105\n",
            "15 x 8 = 120\n",
            "15 x 9 = 135\n",
            "15 x 10 = 150\n",
            "Fim de programa!\n"
          ]
        }
      ]
    },
    {
      "cell_type": "markdown",
      "source": [],
      "metadata": {
        "id": "Di1CluLfLNgk"
      }
    },
    {
      "cell_type": "markdown",
      "source": [
        "Exempo 2"
      ],
      "metadata": {
        "id": "9tfYS6WMLZ46"
      }
    },
    {
      "cell_type": "code",
      "source": [
        "# Criando uma vareavel de controle deo laço, contando 5 repetiçors\n",
        "contador = 1\n",
        "#Crinado uma variavel  para acumlar os valores das idades digitadas:\n",
        "soma = 0\n",
        "# Criando o laço de repetiçao paa receber 5  idades e somálas:\n",
        "while contador <=5:\n",
        "    # Recebendo a idade do usuario:\n",
        "    idade = int(input(f'Digite sua idade do usuario nº{contador}: '))\n",
        "    # Somando a idade do usuario ao valor atual da variavel acumulada\n",
        "    soma = soma + idade\n",
        "    # incrementando a avariavel contador para controle de laço\n",
        "    contador = contador + 1\n",
        "  # calculando a media das iades:\n",
        "media = soma/(contador - 1)\n",
        "print(f'A media das idades é {media}')\n",
        "\n",
        "\n",
        "\n"
      ],
      "metadata": {
        "colab": {
          "base_uri": "https://localhost:8080/"
        },
        "id": "lyHopoOTLehr",
        "outputId": "d99c8101-8539-4c72-87a6-05a920d2dd35"
      },
      "execution_count": null,
      "outputs": [
        {
          "output_type": "stream",
          "name": "stdout",
          "text": [
            "Digite sua idade do usuario nº1: 18\n",
            "Digite sua idade do usuario nº2: 55\n",
            "Digite sua idade do usuario nº3: 12\n",
            "Digite sua idade do usuario nº4: 19\n",
            "Digite sua idade do usuario nº5: 45\n",
            "A media das idades é 29.8\n"
          ]
        }
      ]
    },
    {
      "cell_type": "markdown",
      "source": [],
      "metadata": {
        "id": "M9HxU6GSPRnN"
      }
    },
    {
      "cell_type": "markdown",
      "source": [
        "Comado for\n"
      ],
      "metadata": {
        "id": "4dOg2DfhRIsV"
      }
    },
    {
      "cell_type": "code",
      "source": [
        "# range(inicio, final, incremento)\n",
        "for contador in range(0, 10, 1):\n",
        "    print(contador)"
      ],
      "metadata": {
        "colab": {
          "base_uri": "https://localhost:8080/"
        },
        "id": "yRxvgb_dRQ1V",
        "outputId": "f8c75a16-dbfb-49e4-e1f8-66ae106675ee"
      },
      "execution_count": null,
      "outputs": [
        {
          "output_type": "stream",
          "name": "stdout",
          "text": [
            "0\n",
            "1\n",
            "2\n",
            "3\n",
            "4\n",
            "5\n",
            "6\n",
            "7\n",
            "8\n",
            "9\n"
          ]
        }
      ]
    },
    {
      "cell_type": "markdown",
      "source": [],
      "metadata": {
        "id": "NN1IPSMJSuUy"
      }
    }
  ]
}